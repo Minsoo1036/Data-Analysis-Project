{
 "cells": [
  {
   "cell_type": "markdown",
   "metadata": {},
   "source": [
    "# Latent Network Models"
   ]
  },
  {
   "cell_type": "markdown",
   "metadata": {},
   "source": [
    "## install package and load"
   ]
  },
  {
   "cell_type": "code",
   "execution_count": 1,
   "metadata": {},
   "outputs": [
    {
     "name": "stdout",
     "output_type": "stream",
     "text": [
      "package 'igraph' successfully unpacked and MD5 sums checked\n",
      "\n",
      "The downloaded binary packages are in\n",
      "\tC:\\Users\\pc\\AppData\\Local\\Temp\\RtmpMfUhbg\\downloaded_packages\n",
      "package 'eigenmodel' successfully unpacked and MD5 sums checked\n",
      "\n",
      "The downloaded binary packages are in\n",
      "\tC:\\Users\\pc\\AppData\\Local\\Temp\\RtmpMfUhbg\\downloaded_packages\n"
     ]
    },
    {
     "name": "stderr",
     "output_type": "stream",
     "text": [
      "also installing the dependency 'igraphdata'\n",
      "\n"
     ]
    },
    {
     "name": "stdout",
     "output_type": "stream",
     "text": [
      "package 'igraphdata' successfully unpacked and MD5 sums checked\n",
      "package 'sand' successfully unpacked and MD5 sums checked\n",
      "\n",
      "The downloaded binary packages are in\n",
      "\tC:\\Users\\pc\\AppData\\Local\\Temp\\RtmpMfUhbg\\downloaded_packages\n"
     ]
    },
    {
     "name": "stderr",
     "output_type": "stream",
     "text": [
      "also installing the dependencies 'bitops', 'caTools', 'gplots'\n",
      "\n"
     ]
    },
    {
     "name": "stdout",
     "output_type": "stream",
     "text": [
      "package 'bitops' successfully unpacked and MD5 sums checked\n",
      "package 'caTools' successfully unpacked and MD5 sums checked\n",
      "package 'gplots' successfully unpacked and MD5 sums checked\n",
      "package 'ROCR' successfully unpacked and MD5 sums checked\n",
      "\n",
      "The downloaded binary packages are in\n",
      "\tC:\\Users\\pc\\AppData\\Local\\Temp\\RtmpMfUhbg\\downloaded_packages\n"
     ]
    }
   ],
   "source": [
    "install.packages(\"igraph\")\n",
    "install.packages(\"eigenmodel\")\n",
    "install.packages(\"sand\")\n",
    "install.packages(\"ROCR\")"
   ]
  },
  {
   "cell_type": "code",
   "execution_count": 3,
   "metadata": {},
   "outputs": [],
   "source": [
    "library(igraph)\n",
    "library(eigenmodel)\n",
    "library(sand)\n",
    "library(ROCR)"
   ]
  },
  {
   "cell_type": "markdown",
   "metadata": {},
   "source": [
    "## data summary"
   ]
  },
  {
   "cell_type": "code",
   "execution_count": 4,
   "metadata": {},
   "outputs": [
    {
     "name": "stdout",
     "output_type": "stream",
     "text": [
      "IGRAPH 3e8b2bf UN-- 36 115 -- \n",
      "+ attr: name (v/c), Seniority (v/n), Status (v/n), Gender (v/n), Office\n",
      "| (v/n), Years (v/n), Age (v/n), Practice (v/n), School (v/n)\n"
     ]
    }
   ],
   "source": [
    "summary(lazega)"
   ]
  },
  {
   "cell_type": "markdown",
   "metadata": {},
   "source": [
    "## no covariate latent model fitting"
   ]
  },
  {
   "cell_type": "code",
   "execution_count": 5,
   "metadata": {},
   "outputs": [
    {
     "name": "stdout",
     "output_type": "stream",
     "text": [
      "5 percent done (iteration 1050) Mon Dec 14 22:59:13 2020\n",
      "10 percent done (iteration 2100) Mon Dec 14 22:59:16 2020\n",
      "15 percent done (iteration 3150) Mon Dec 14 22:59:20 2020\n",
      "20 percent done (iteration 4200) Mon Dec 14 22:59:24 2020\n",
      "25 percent done (iteration 5250) Mon Dec 14 22:59:27 2020\n",
      "30 percent done (iteration 6300) Mon Dec 14 22:59:31 2020\n",
      "35 percent done (iteration 7350) Mon Dec 14 22:59:34 2020\n",
      "40 percent done (iteration 8400) Mon Dec 14 22:59:38 2020\n",
      "45 percent done (iteration 9450) Mon Dec 14 22:59:41 2020\n",
      "50 percent done (iteration 10500) Mon Dec 14 22:59:45 2020\n",
      "55 percent done (iteration 11550) Mon Dec 14 22:59:48 2020\n",
      "60 percent done (iteration 12600) Mon Dec 14 22:59:52 2020\n",
      "65 percent done (iteration 13650) Mon Dec 14 22:59:55 2020\n",
      "70 percent done (iteration 14700) Mon Dec 14 22:59:59 2020\n",
      "75 percent done (iteration 15750) Mon Dec 14 23:00:02 2020\n",
      "80 percent done (iteration 16800) Mon Dec 14 23:00:06 2020\n",
      "85 percent done (iteration 17850) Mon Dec 14 23:00:10 2020\n",
      "90 percent done (iteration 18900) Mon Dec 14 23:00:13 2020\n",
      "95 percent done (iteration 19950) Mon Dec 14 23:00:17 2020\n",
      "100 percent done (iteration 21000) Mon Dec 14 23:00:20 2020\n"
     ]
    }
   ],
   "source": [
    "set.seed(42)\n",
    "A<-get.adjacency(lazega,sparse=FALSE)\n",
    "lazega.leig.fit1<-eigenmodel_mcmc(A,R=2,S=11000,burn=10000)"
   ]
  },
  {
   "cell_type": "markdown",
   "metadata": {},
   "source": [
    "## latent model with covariate(practice)"
   ]
  },
  {
   "cell_type": "code",
   "execution_count": 6,
   "metadata": {},
   "outputs": [
    {
     "name": "stdout",
     "output_type": "stream",
     "text": [
      "5 percent done (iteration 1050) Mon Dec 14 23:01:24 2020\n",
      "10 percent done (iteration 2100) Mon Dec 14 23:01:28 2020\n",
      "15 percent done (iteration 3150) Mon Dec 14 23:01:32 2020\n",
      "20 percent done (iteration 4200) Mon Dec 14 23:01:35 2020\n",
      "25 percent done (iteration 5250) Mon Dec 14 23:01:39 2020\n",
      "30 percent done (iteration 6300) Mon Dec 14 23:01:43 2020\n",
      "35 percent done (iteration 7350) Mon Dec 14 23:01:47 2020\n",
      "40 percent done (iteration 8400) Mon Dec 14 23:01:51 2020\n",
      "45 percent done (iteration 9450) Mon Dec 14 23:01:55 2020\n",
      "50 percent done (iteration 10500) Mon Dec 14 23:01:59 2020\n",
      "55 percent done (iteration 11550) Mon Dec 14 23:02:02 2020\n",
      "60 percent done (iteration 12600) Mon Dec 14 23:02:06 2020\n",
      "65 percent done (iteration 13650) Mon Dec 14 23:02:10 2020\n",
      "70 percent done (iteration 14700) Mon Dec 14 23:02:14 2020\n",
      "75 percent done (iteration 15750) Mon Dec 14 23:02:18 2020\n",
      "80 percent done (iteration 16800) Mon Dec 14 23:02:22 2020\n",
      "85 percent done (iteration 17850) Mon Dec 14 23:02:26 2020\n",
      "90 percent done (iteration 18900) Mon Dec 14 23:02:30 2020\n",
      "95 percent done (iteration 19950) Mon Dec 14 23:02:34 2020\n",
      "100 percent done (iteration 21000) Mon Dec 14 23:02:38 2020\n"
     ]
    }
   ],
   "source": [
    "same.prac.op<-v.attr.lazega$Practice %o% v.attr.lazega$Practice #practice is 1 or 2 or 3\n",
    "same.prac <- matrix(as.numeric(same.prac.op %in% c(1,4,9)), 36, 36)\n",
    "same.prac <- array(same.prac, dim=c(36,36,1))\n",
    "lazega.leig.fit2<-eigenmodel_mcmc(A,same.prac,R=2,S=11000,burn=10000)"
   ]
  },
  {
   "cell_type": "markdown",
   "metadata": {},
   "source": [
    "## latent model with covariate(office)"
   ]
  },
  {
   "cell_type": "code",
   "execution_count": 7,
   "metadata": {},
   "outputs": [
    {
     "name": "stdout",
     "output_type": "stream",
     "text": [
      "5 percent done (iteration 1050) Mon Dec 14 23:03:38 2020\n",
      "10 percent done (iteration 2100) Mon Dec 14 23:03:41 2020\n",
      "15 percent done (iteration 3150) Mon Dec 14 23:03:45 2020\n",
      "20 percent done (iteration 4200) Mon Dec 14 23:03:49 2020\n",
      "25 percent done (iteration 5250) Mon Dec 14 23:03:53 2020\n",
      "30 percent done (iteration 6300) Mon Dec 14 23:03:57 2020\n",
      "35 percent done (iteration 7350) Mon Dec 14 23:04:01 2020\n",
      "40 percent done (iteration 8400) Mon Dec 14 23:04:05 2020\n",
      "45 percent done (iteration 9450) Mon Dec 14 23:04:08 2020\n",
      "50 percent done (iteration 10500) Mon Dec 14 23:04:12 2020\n",
      "55 percent done (iteration 11550) Mon Dec 14 23:04:16 2020\n",
      "60 percent done (iteration 12600) Mon Dec 14 23:04:20 2020\n",
      "65 percent done (iteration 13650) Mon Dec 14 23:04:24 2020\n",
      "70 percent done (iteration 14700) Mon Dec 14 23:04:28 2020\n",
      "75 percent done (iteration 15750) Mon Dec 14 23:04:32 2020\n",
      "80 percent done (iteration 16800) Mon Dec 14 23:04:36 2020\n",
      "85 percent done (iteration 17850) Mon Dec 14 23:04:40 2020\n",
      "90 percent done (iteration 18900) Mon Dec 14 23:04:44 2020\n",
      "95 percent done (iteration 19950) Mon Dec 14 23:04:48 2020\n",
      "100 percent done (iteration 21000) Mon Dec 14 23:04:51 2020\n"
     ]
    }
   ],
   "source": [
    "same.off.op<-v.attr.lazega$Office %o% v.attr.lazega$Office\n",
    "same.off <- matrix(as.numeric(same.off.op %in% c(1,4,9)), 36, 36)\n",
    "same.off <- array(same.off, dim=c(36,36,1))\n",
    "lazega.leig.fit3<-eigenmodel_mcmc(A,same.off,R=2,S=11000,burn=10000)"
   ]
  },
  {
   "cell_type": "markdown",
   "metadata": {},
   "source": [
    "## save two eigen vector (estimated latent variables) for plot"
   ]
  },
  {
   "cell_type": "code",
   "execution_count": 8,
   "metadata": {},
   "outputs": [],
   "source": [
    "lat.sp.1 <- eigen(lazega.leig.fit1$ULU_postmean)$vec[,1:2]\n",
    "lat.sp.2 <- eigen(lazega.leig.fit2$ULU_postmean)$vec[,1:2]\n",
    "lat.sp.3 <- eigen(lazega.leig.fit3$ULU_postmean)$vec[,1:2]"
   ]
  },
  {
   "cell_type": "code",
   "execution_count": 9,
   "metadata": {},
   "outputs": [
    {
     "data": {
      "text/html": [
       "<ol class=list-inline>\n",
       "\t<li>65.092481412852</li>\n",
       "\t<li>26.2226068992537</li>\n",
       "\t<li>1.51209927297275</li>\n",
       "\t<li>0.542026125606383</li>\n",
       "\t<li>0.529585426142777</li>\n",
       "\t<li>0.423273980936534</li>\n",
       "\t<li>0.339215862731504</li>\n",
       "\t<li>0.332393033437079</li>\n",
       "\t<li>0.319608135347913</li>\n",
       "\t<li>0.308833895038825</li>\n",
       "\t<li>0.303506924438426</li>\n",
       "\t<li>0.282832324669887</li>\n",
       "\t<li>0.250858916115329</li>\n",
       "\t<li>0.239259060214557</li>\n",
       "\t<li>0.237629134350926</li>\n",
       "\t<li>0.226510621404741</li>\n",
       "\t<li>0.219806765559289</li>\n",
       "\t<li>0.203903369676682</li>\n",
       "\t<li>0.197210890499808</li>\n",
       "\t<li>0.179734308802553</li>\n",
       "\t<li>0.169990320274109</li>\n",
       "\t<li>0.16740109090994</li>\n",
       "\t<li>0.15979690391152</li>\n",
       "\t<li>0.158455729567061</li>\n",
       "\t<li>0.144127018771319</li>\n",
       "\t<li>0.13457207642402</li>\n",
       "\t<li>0.128193920090274</li>\n",
       "\t<li>0.123998320704483</li>\n",
       "\t<li>0.114236517751806</li>\n",
       "\t<li>0.108322895015457</li>\n",
       "\t<li>0.105994947234924</li>\n",
       "\t<li>0.0982767868040654</li>\n",
       "\t<li>0.0961080472324637</li>\n",
       "\t<li>0.0941016057308158</li>\n",
       "\t<li>0.0883000925302925</li>\n",
       "\t<li>0.0797817722414434</li>\n",
       "</ol>\n"
      ],
      "text/latex": [
       "\\begin{enumerate*}\n",
       "\\item 65.092481412852\n",
       "\\item 26.2226068992537\n",
       "\\item 1.51209927297275\n",
       "\\item 0.542026125606383\n",
       "\\item 0.529585426142777\n",
       "\\item 0.423273980936534\n",
       "\\item 0.339215862731504\n",
       "\\item 0.332393033437079\n",
       "\\item 0.319608135347913\n",
       "\\item 0.308833895038825\n",
       "\\item 0.303506924438426\n",
       "\\item 0.282832324669887\n",
       "\\item 0.250858916115329\n",
       "\\item 0.239259060214557\n",
       "\\item 0.237629134350926\n",
       "\\item 0.226510621404741\n",
       "\\item 0.219806765559289\n",
       "\\item 0.203903369676682\n",
       "\\item 0.197210890499808\n",
       "\\item 0.179734308802553\n",
       "\\item 0.169990320274109\n",
       "\\item 0.16740109090994\n",
       "\\item 0.15979690391152\n",
       "\\item 0.158455729567061\n",
       "\\item 0.144127018771319\n",
       "\\item 0.13457207642402\n",
       "\\item 0.128193920090274\n",
       "\\item 0.123998320704483\n",
       "\\item 0.114236517751806\n",
       "\\item 0.108322895015457\n",
       "\\item 0.105994947234924\n",
       "\\item 0.0982767868040654\n",
       "\\item 0.0961080472324637\n",
       "\\item 0.0941016057308158\n",
       "\\item 0.0883000925302925\n",
       "\\item 0.0797817722414434\n",
       "\\end{enumerate*}\n"
      ],
      "text/markdown": [
       "1. 65.092481412852\n",
       "2. 26.2226068992537\n",
       "3. 1.51209927297275\n",
       "4. 0.542026125606383\n",
       "5. 0.529585426142777\n",
       "6. 0.423273980936534\n",
       "7. 0.339215862731504\n",
       "8. 0.332393033437079\n",
       "9. 0.319608135347913\n",
       "10. 0.308833895038825\n",
       "11. 0.303506924438426\n",
       "12. 0.282832324669887\n",
       "13. 0.250858916115329\n",
       "14. 0.239259060214557\n",
       "15. 0.237629134350926\n",
       "16. 0.226510621404741\n",
       "17. 0.219806765559289\n",
       "18. 0.203903369676682\n",
       "19. 0.197210890499808\n",
       "20. 0.179734308802553\n",
       "21. 0.169990320274109\n",
       "22. 0.16740109090994\n",
       "23. 0.15979690391152\n",
       "24. 0.158455729567061\n",
       "25. 0.144127018771319\n",
       "26. 0.13457207642402\n",
       "27. 0.128193920090274\n",
       "28. 0.123998320704483\n",
       "29. 0.114236517751806\n",
       "30. 0.108322895015457\n",
       "31. 0.105994947234924\n",
       "32. 0.0982767868040654\n",
       "33. 0.0961080472324637\n",
       "34. 0.0941016057308158\n",
       "35. 0.0883000925302925\n",
       "36. 0.0797817722414434\n",
       "\n",
       "\n"
      ],
      "text/plain": [
       " [1] 65.09248141 26.22260690  1.51209927  0.54202613  0.52958543  0.42327398\n",
       " [7]  0.33921586  0.33239303  0.31960814  0.30883390  0.30350692  0.28283232\n",
       "[13]  0.25085892  0.23925906  0.23762913  0.22651062  0.21980677  0.20390337\n",
       "[19]  0.19721089  0.17973431  0.16999032  0.16740109  0.15979690  0.15845573\n",
       "[25]  0.14412702  0.13457208  0.12819392  0.12399832  0.11423652  0.10832290\n",
       "[31]  0.10599495  0.09827679  0.09610805  0.09410161  0.08830009  0.07978177"
      ]
     },
     "metadata": {},
     "output_type": "display_data"
    }
   ],
   "source": [
    "eigen(lazega.leig.fit1$ULU_postmean)$values #two eigen value is not 0 and others are 0 in our assumption(since dimension of latent variable is two)"
   ]
  },
  {
   "cell_type": "code",
   "execution_count": 10,
   "metadata": {},
   "outputs": [
    {
     "data": {
      "text/html": [
       "<ol class=list-inline>\n",
       "\t<li>22.1322189529226</li>\n",
       "\t<li>0.527619214209228</li>\n",
       "\t<li>0.395861428596756</li>\n",
       "\t<li>0.335403781216804</li>\n",
       "\t<li>0.313138938091626</li>\n",
       "\t<li>0.256560467376119</li>\n",
       "\t<li>0.23320882993217</li>\n",
       "\t<li>0.213204698461498</li>\n",
       "\t<li>0.18849679766965</li>\n",
       "\t<li>0.164982639457753</li>\n",
       "\t<li>0.156418105519732</li>\n",
       "\t<li>0.149819006555776</li>\n",
       "\t<li>0.140562579607948</li>\n",
       "\t<li>0.138179418306959</li>\n",
       "\t<li>0.128648019795555</li>\n",
       "\t<li>0.110074290351761</li>\n",
       "\t<li>0.107517045776497</li>\n",
       "\t<li>0.0957294557381349</li>\n",
       "\t<li>0.0930004623326931</li>\n",
       "\t<li>0.087336312238797</li>\n",
       "\t<li>0.0856587873085051</li>\n",
       "\t<li>0.0726071819387544</li>\n",
       "\t<li>0.0617786903845799</li>\n",
       "\t<li>0.0571648938199819</li>\n",
       "\t<li>0.052245124524322</li>\n",
       "\t<li>0.046310765889439</li>\n",
       "\t<li>0.040838123323267</li>\n",
       "\t<li>0.0394358761974957</li>\n",
       "\t<li>0.0322848327579486</li>\n",
       "\t<li>0.0300362869729062</li>\n",
       "\t<li>0.028652136709534</li>\n",
       "\t<li>0.0193622957794433</li>\n",
       "\t<li>0.0182550238077447</li>\n",
       "\t<li>0.0171745595946361</li>\n",
       "\t<li>-0.00146106546224928</li>\n",
       "\t<li>-101.571445522161</li>\n",
       "</ol>\n"
      ],
      "text/latex": [
       "\\begin{enumerate*}\n",
       "\\item 22.1322189529226\n",
       "\\item 0.527619214209228\n",
       "\\item 0.395861428596756\n",
       "\\item 0.335403781216804\n",
       "\\item 0.313138938091626\n",
       "\\item 0.256560467376119\n",
       "\\item 0.23320882993217\n",
       "\\item 0.213204698461498\n",
       "\\item 0.18849679766965\n",
       "\\item 0.164982639457753\n",
       "\\item 0.156418105519732\n",
       "\\item 0.149819006555776\n",
       "\\item 0.140562579607948\n",
       "\\item 0.138179418306959\n",
       "\\item 0.128648019795555\n",
       "\\item 0.110074290351761\n",
       "\\item 0.107517045776497\n",
       "\\item 0.0957294557381349\n",
       "\\item 0.0930004623326931\n",
       "\\item 0.087336312238797\n",
       "\\item 0.0856587873085051\n",
       "\\item 0.0726071819387544\n",
       "\\item 0.0617786903845799\n",
       "\\item 0.0571648938199819\n",
       "\\item 0.052245124524322\n",
       "\\item 0.046310765889439\n",
       "\\item 0.040838123323267\n",
       "\\item 0.0394358761974957\n",
       "\\item 0.0322848327579486\n",
       "\\item 0.0300362869729062\n",
       "\\item 0.028652136709534\n",
       "\\item 0.0193622957794433\n",
       "\\item 0.0182550238077447\n",
       "\\item 0.0171745595946361\n",
       "\\item -0.00146106546224928\n",
       "\\item -101.571445522161\n",
       "\\end{enumerate*}\n"
      ],
      "text/markdown": [
       "1. 22.1322189529226\n",
       "2. 0.527619214209228\n",
       "3. 0.395861428596756\n",
       "4. 0.335403781216804\n",
       "5. 0.313138938091626\n",
       "6. 0.256560467376119\n",
       "7. 0.23320882993217\n",
       "8. 0.213204698461498\n",
       "9. 0.18849679766965\n",
       "10. 0.164982639457753\n",
       "11. 0.156418105519732\n",
       "12. 0.149819006555776\n",
       "13. 0.140562579607948\n",
       "14. 0.138179418306959\n",
       "15. 0.128648019795555\n",
       "16. 0.110074290351761\n",
       "17. 0.107517045776497\n",
       "18. 0.0957294557381349\n",
       "19. 0.0930004623326931\n",
       "20. 0.087336312238797\n",
       "21. 0.0856587873085051\n",
       "22. 0.0726071819387544\n",
       "23. 0.0617786903845799\n",
       "24. 0.0571648938199819\n",
       "25. 0.052245124524322\n",
       "26. 0.046310765889439\n",
       "27. 0.040838123323267\n",
       "28. 0.0394358761974957\n",
       "29. 0.0322848327579486\n",
       "30. 0.0300362869729062\n",
       "31. 0.028652136709534\n",
       "32. 0.0193622957794433\n",
       "33. 0.0182550238077447\n",
       "34. 0.0171745595946361\n",
       "35. -0.00146106546224928\n",
       "36. -101.571445522161\n",
       "\n",
       "\n"
      ],
      "text/plain": [
       " [1]  2.213222e+01  5.276192e-01  3.958614e-01  3.354038e-01  3.131389e-01\n",
       " [6]  2.565605e-01  2.332088e-01  2.132047e-01  1.884968e-01  1.649826e-01\n",
       "[11]  1.564181e-01  1.498190e-01  1.405626e-01  1.381794e-01  1.286480e-01\n",
       "[16]  1.100743e-01  1.075170e-01  9.572946e-02  9.300046e-02  8.733631e-02\n",
       "[21]  8.565879e-02  7.260718e-02  6.177869e-02  5.716489e-02  5.224512e-02\n",
       "[26]  4.631077e-02  4.083812e-02  3.943588e-02  3.228483e-02  3.003629e-02\n",
       "[31]  2.865214e-02  1.936230e-02  1.825502e-02  1.717456e-02 -1.461065e-03\n",
       "[36] -1.015714e+02"
      ]
     },
     "metadata": {},
     "output_type": "display_data"
    }
   ],
   "source": [
    "eigen(lazega.leig.fit2$ULU_postmean)$values #two eigen value is not 0 and others are 0 in our assumption(since dimension of latent variable is two)"
   ]
  },
  {
   "cell_type": "code",
   "execution_count": 11,
   "metadata": {},
   "outputs": [
    {
     "data": {
      "text/html": [
       "<ol class=list-inline>\n",
       "\t<li>7.36370600492441</li>\n",
       "\t<li>0.906332756456458</li>\n",
       "\t<li>0.557555430350106</li>\n",
       "\t<li>0.338237899697957</li>\n",
       "\t<li>0.30139465407713</li>\n",
       "\t<li>0.246115272492186</li>\n",
       "\t<li>0.232821048097209</li>\n",
       "\t<li>0.193746839198703</li>\n",
       "\t<li>0.18293749897662</li>\n",
       "\t<li>0.178667990623679</li>\n",
       "\t<li>0.13647675067765</li>\n",
       "\t<li>0.121109865233684</li>\n",
       "\t<li>0.112524730349244</li>\n",
       "\t<li>0.109495511468954</li>\n",
       "\t<li>0.108318860126035</li>\n",
       "\t<li>0.0950297810196972</li>\n",
       "\t<li>0.0794657943098427</li>\n",
       "\t<li>0.070037654095651</li>\n",
       "\t<li>0.0672027579485705</li>\n",
       "\t<li>0.0610253003477092</li>\n",
       "\t<li>0.0561363103456941</li>\n",
       "\t<li>0.0481900681563063</li>\n",
       "\t<li>0.0428990654313399</li>\n",
       "\t<li>0.0358180670816721</li>\n",
       "\t<li>0.0342018953797512</li>\n",
       "\t<li>0.0272333058953968</li>\n",
       "\t<li>0.0202952483630768</li>\n",
       "\t<li>0.0129914283073107</li>\n",
       "\t<li>0.00658403240295835</li>\n",
       "\t<li>0.000532156651447441</li>\n",
       "\t<li>-0.00877963362987229</li>\n",
       "\t<li>-0.00990168549373338</li>\n",
       "\t<li>-0.0186781744683602</li>\n",
       "\t<li>-0.0268617530650204</li>\n",
       "\t<li>-0.0432775144040685</li>\n",
       "\t<li>-203.872228156713</li>\n",
       "</ol>\n"
      ],
      "text/latex": [
       "\\begin{enumerate*}\n",
       "\\item 7.36370600492441\n",
       "\\item 0.906332756456458\n",
       "\\item 0.557555430350106\n",
       "\\item 0.338237899697957\n",
       "\\item 0.30139465407713\n",
       "\\item 0.246115272492186\n",
       "\\item 0.232821048097209\n",
       "\\item 0.193746839198703\n",
       "\\item 0.18293749897662\n",
       "\\item 0.178667990623679\n",
       "\\item 0.13647675067765\n",
       "\\item 0.121109865233684\n",
       "\\item 0.112524730349244\n",
       "\\item 0.109495511468954\n",
       "\\item 0.108318860126035\n",
       "\\item 0.0950297810196972\n",
       "\\item 0.0794657943098427\n",
       "\\item 0.070037654095651\n",
       "\\item 0.0672027579485705\n",
       "\\item 0.0610253003477092\n",
       "\\item 0.0561363103456941\n",
       "\\item 0.0481900681563063\n",
       "\\item 0.0428990654313399\n",
       "\\item 0.0358180670816721\n",
       "\\item 0.0342018953797512\n",
       "\\item 0.0272333058953968\n",
       "\\item 0.0202952483630768\n",
       "\\item 0.0129914283073107\n",
       "\\item 0.00658403240295835\n",
       "\\item 0.000532156651447441\n",
       "\\item -0.00877963362987229\n",
       "\\item -0.00990168549373338\n",
       "\\item -0.0186781744683602\n",
       "\\item -0.0268617530650204\n",
       "\\item -0.0432775144040685\n",
       "\\item -203.872228156713\n",
       "\\end{enumerate*}\n"
      ],
      "text/markdown": [
       "1. 7.36370600492441\n",
       "2. 0.906332756456458\n",
       "3. 0.557555430350106\n",
       "4. 0.338237899697957\n",
       "5. 0.30139465407713\n",
       "6. 0.246115272492186\n",
       "7. 0.232821048097209\n",
       "8. 0.193746839198703\n",
       "9. 0.18293749897662\n",
       "10. 0.178667990623679\n",
       "11. 0.13647675067765\n",
       "12. 0.121109865233684\n",
       "13. 0.112524730349244\n",
       "14. 0.109495511468954\n",
       "15. 0.108318860126035\n",
       "16. 0.0950297810196972\n",
       "17. 0.0794657943098427\n",
       "18. 0.070037654095651\n",
       "19. 0.0672027579485705\n",
       "20. 0.0610253003477092\n",
       "21. 0.0561363103456941\n",
       "22. 0.0481900681563063\n",
       "23. 0.0428990654313399\n",
       "24. 0.0358180670816721\n",
       "25. 0.0342018953797512\n",
       "26. 0.0272333058953968\n",
       "27. 0.0202952483630768\n",
       "28. 0.0129914283073107\n",
       "29. 0.00658403240295835\n",
       "30. 0.000532156651447441\n",
       "31. -0.00877963362987229\n",
       "32. -0.00990168549373338\n",
       "33. -0.0186781744683602\n",
       "34. -0.0268617530650204\n",
       "35. -0.0432775144040685\n",
       "36. -203.872228156713\n",
       "\n",
       "\n"
      ],
      "text/plain": [
       " [1]  7.363706e+00  9.063328e-01  5.575554e-01  3.382379e-01  3.013947e-01\n",
       " [6]  2.461153e-01  2.328210e-01  1.937468e-01  1.829375e-01  1.786680e-01\n",
       "[11]  1.364768e-01  1.211099e-01  1.125247e-01  1.094955e-01  1.083189e-01\n",
       "[16]  9.502978e-02  7.946579e-02  7.003765e-02  6.720276e-02  6.102530e-02\n",
       "[21]  5.613631e-02  4.819007e-02  4.289907e-02  3.581807e-02  3.420190e-02\n",
       "[26]  2.723331e-02  2.029525e-02  1.299143e-02  6.584032e-03  5.321567e-04\n",
       "[31] -8.779634e-03 -9.901685e-03 -1.867817e-02 -2.686175e-02 -4.327751e-02\n",
       "[36] -2.038722e+02"
      ]
     },
     "metadata": {},
     "output_type": "display_data"
    }
   ],
   "source": [
    "eigen(lazega.leig.fit3$ULU_postmean)$values #two eigen value is not 0 and others are 0 in our assumption(since dimension of latent variable is two)"
   ]
  },
  {
   "cell_type": "markdown",
   "metadata": {},
   "source": [
    "## plot network with eigen vector layout"
   ]
  },
  {
   "cell_type": "code",
   "execution_count": 12,
   "metadata": {},
   "outputs": [
    {
     "data": {
      "image/png": "[encoded data removed]",
      "text/plain": [
       "Plot with title \"\""
      ]
     },
     "metadata": {},
     "output_type": "display_data"
    }
   ],
   "source": [
    "par(mfrow=c(1,3))\n",
    "\n",
    "colbar<-c(\"red\",\"dodgerblue\",\"goldenrod\")\n",
    "v.colors<-colbar[V(lazega)$Office]\n",
    "v.shapes<-c(\"circle\",\"square\")[V(lazega)$Practice]\n",
    "v.size<-3.5*sqrt(V(lazega)$Years)\n",
    "v.label<-V(lazega)$Seniority\n",
    "plot(lazega,layout=lat.sp.1,vertex.color=v.colors,\n",
    "     vertex.shape=v.shapes,vertex.size=v.size,vertex.label=v.label)\n",
    "plot(lazega,layout=lat.sp.2,vertex.color=v.colors,\n",
    "     vertex.shape=v.shapes,vertex.size=v.size,vertex.label=v.label)\n",
    "plot(lazega,layout=lat.sp.3,vertex.color=v.colors,\n",
    "     vertex.shape=v.shapes,vertex.size=v.size,vertex.label=v.label)\n",
    "\n",
    "#first and second plot are similar.\n",
    "#third plot is different with first and second plot.\n",
    "#latent variable may be the role of the practice."
   ]
  },
  {
   "cell_type": "code",
   "execution_count": 13,
   "metadata": {},
   "outputs": [
    {
     "data": {
      "text/html": [
       "<ol class=list-inline>\n",
       "\t<li>0.758259836082749</li>\n",
       "\t<li>0.525332367857435</li>\n",
       "</ol>\n"
      ],
      "text/latex": [
       "\\begin{enumerate*}\n",
       "\\item 0.758259836082749\n",
       "\\item 0.525332367857435\n",
       "\\end{enumerate*}\n"
      ],
      "text/markdown": [
       "1. 0.758259836082749\n",
       "2. 0.525332367857435\n",
       "\n",
       "\n"
      ],
      "text/plain": [
       "[1] 0.7582598 0.5253324"
      ]
     },
     "metadata": {},
     "output_type": "display_data"
    },
    {
     "data": {
      "text/html": [
       "<ol class=list-inline>\n",
       "\t<li>0.870655386126542</li>\n",
       "\t<li>-0.221159323613159</li>\n",
       "</ol>\n"
      ],
      "text/latex": [
       "\\begin{enumerate*}\n",
       "\\item 0.870655386126542\n",
       "\\item -0.221159323613159\n",
       "\\end{enumerate*}\n"
      ],
      "text/markdown": [
       "1. 0.870655386126542\n",
       "2. -0.221159323613159\n",
       "\n",
       "\n"
      ],
      "text/plain": [
       "[1]  0.8706554 -0.2211593"
      ]
     },
     "metadata": {},
     "output_type": "display_data"
    },
    {
     "data": {
      "text/html": [
       "<ol class=list-inline>\n",
       "\t<li>-0.124026477695012</li>\n",
       "\t<li>0.363722190536419</li>\n",
       "</ol>\n"
      ],
      "text/latex": [
       "\\begin{enumerate*}\n",
       "\\item -0.124026477695012\n",
       "\\item 0.363722190536419\n",
       "\\end{enumerate*}\n"
      ],
      "text/markdown": [
       "1. -0.124026477695012\n",
       "2. 0.363722190536419\n",
       "\n",
       "\n"
      ],
      "text/plain": [
       "[1] -0.1240265  0.3637222"
      ]
     },
     "metadata": {},
     "output_type": "display_data"
    }
   ],
   "source": [
    "apply(lazega.leig.fit1$L_postsamp,2,mean) #L_postsamp is the posterior samples of eigen values.(i.e., 1000*2 matrix since the default of eigenmodel_mcmc's argument Nss is 1000)\n",
    "apply(lazega.leig.fit2$L_postsamp,2,mean)\n",
    "apply(lazega.leig.fit3$L_postsamp,2,mean)\n",
    "#each eigenvalue explains the strength of the corresponding latent variable(eigen vector)..\n",
    "#first model's eigen values don't match well with above first plot.(i.e., It seems like that the second eigen vector is more important than the first eigen vector in playing a role in determining the probability that vertex pairs are incident to each other, but eigen values don't match with it.)\n",
    "#second model's eigen values match well with above second plot. and third too."
   ]
  },
  {
   "cell_type": "markdown",
   "metadata": {},
   "source": [
    "## Cross Validation(5-fold)"
   ]
  },
  {
   "cell_type": "code",
   "execution_count": 14,
   "metadata": {},
   "outputs": [],
   "source": [
    "perm.index<-sample(1:630) #index permutation\n",
    "nfolds<-5\n",
    "nmiss<-630/nfolds\n",
    "Avec<-A[lower.tri(A)]\n",
    "Avec.pred1<-numeric(length(Avec)) #initializing (out of sample prediction of first model)\n",
    "Avec.pred2<-numeric(length(Avec)) #initializing (out of sample prediction of second model)\n",
    "Avec.pred3<-numeric(length(Avec)) #initializing (out of sample prediction of third model)"
   ]
  },
  {
   "cell_type": "code",
   "execution_count": 15,
   "metadata": {},
   "outputs": [
    {
     "name": "stderr",
     "output_type": "stream",
     "text": [
      "Warning message in eval(expr, envir, enclos):\n",
      "\"강제형변환에 의해 생성된 NA 입니다\""
     ]
    },
    {
     "name": "stdout",
     "output_type": "stream",
     "text": [
      "5 percent done (iteration 1050) Mon Dec 14 23:08:51 2020\n",
      "10 percent done (iteration 2100) Mon Dec 14 23:08:55 2020\n",
      "15 percent done (iteration 3150) Mon Dec 14 23:08:59 2020\n",
      "20 percent done (iteration 4200) Mon Dec 14 23:09:03 2020\n",
      "25 percent done (iteration 5250) Mon Dec 14 23:09:06 2020\n",
      "30 percent done (iteration 6300) Mon Dec 14 23:09:10 2020\n",
      "35 percent done (iteration 7350) Mon Dec 14 23:09:14 2020\n",
      "40 percent done (iteration 8400) Mon Dec 14 23:09:18 2020\n",
      "45 percent done (iteration 9450) Mon Dec 14 23:09:21 2020\n",
      "50 percent done (iteration 10500) Mon Dec 14 23:09:25 2020\n",
      "55 percent done (iteration 11550) Mon Dec 14 23:09:29 2020\n",
      "60 percent done (iteration 12600) Mon Dec 14 23:09:33 2020\n",
      "65 percent done (iteration 13650) Mon Dec 14 23:09:36 2020\n",
      "70 percent done (iteration 14700) Mon Dec 14 23:09:40 2020\n",
      "75 percent done (iteration 15750) Mon Dec 14 23:09:44 2020\n",
      "80 percent done (iteration 16800) Mon Dec 14 23:09:48 2020\n",
      "85 percent done (iteration 17850) Mon Dec 14 23:09:52 2020\n",
      "90 percent done (iteration 18900) Mon Dec 14 23:09:55 2020\n",
      "95 percent done (iteration 19950) Mon Dec 14 23:09:59 2020\n",
      "100 percent done (iteration 21000) Mon Dec 14 23:10:03 2020\n"
     ]
    },
    {
     "name": "stderr",
     "output_type": "stream",
     "text": [
      "Warning message in eval(expr, envir, enclos):\n",
      "\"강제형변환에 의해 생성된 NA 입니다\""
     ]
    },
    {
     "name": "stdout",
     "output_type": "stream",
     "text": [
      "5 percent done (iteration 1050) Mon Dec 14 23:10:07 2020\n",
      "10 percent done (iteration 2100) Mon Dec 14 23:10:10 2020\n",
      "15 percent done (iteration 3150) Mon Dec 14 23:10:14 2020\n",
      "20 percent done (iteration 4200) Mon Dec 14 23:10:18 2020\n",
      "25 percent done (iteration 5250) Mon Dec 14 23:10:22 2020\n",
      "30 percent done (iteration 6300) Mon Dec 14 23:10:25 2020\n",
      "35 percent done (iteration 7350) Mon Dec 14 23:10:29 2020\n",
      "40 percent done (iteration 8400) Mon Dec 14 23:10:33 2020\n",
      "45 percent done (iteration 9450) Mon Dec 14 23:10:37 2020\n",
      "50 percent done (iteration 10500) Mon Dec 14 23:10:40 2020\n",
      "55 percent done (iteration 11550) Mon Dec 14 23:10:44 2020\n",
      "60 percent done (iteration 12600) Mon Dec 14 23:10:48 2020\n",
      "65 percent done (iteration 13650) Mon Dec 14 23:10:52 2020\n",
      "70 percent done (iteration 14700) Mon Dec 14 23:10:55 2020\n",
      "75 percent done (iteration 15750) Mon Dec 14 23:10:59 2020\n",
      "80 percent done (iteration 16800) Mon Dec 14 23:11:03 2020\n",
      "85 percent done (iteration 17850) Mon Dec 14 23:11:07 2020\n",
      "90 percent done (iteration 18900) Mon Dec 14 23:11:11 2020\n",
      "95 percent done (iteration 19950) Mon Dec 14 23:11:14 2020\n",
      "100 percent done (iteration 21000) Mon Dec 14 23:11:18 2020\n"
     ]
    },
    {
     "name": "stderr",
     "output_type": "stream",
     "text": [
      "Warning message in eval(expr, envir, enclos):\n",
      "\"강제형변환에 의해 생성된 NA 입니다\""
     ]
    },
    {
     "name": "stdout",
     "output_type": "stream",
     "text": [
      "5 percent done (iteration 1050) Mon Dec 14 23:11:22 2020\n",
      "10 percent done (iteration 2100) Mon Dec 14 23:11:25 2020\n",
      "15 percent done (iteration 3150) Mon Dec 14 23:11:29 2020\n",
      "20 percent done (iteration 4200) Mon Dec 14 23:11:33 2020\n",
      "25 percent done (iteration 5250) Mon Dec 14 23:11:36 2020\n",
      "30 percent done (iteration 6300) Mon Dec 14 23:11:40 2020\n",
      "35 percent done (iteration 7350) Mon Dec 14 23:11:44 2020\n",
      "40 percent done (iteration 8400) Mon Dec 14 23:11:48 2020\n",
      "45 percent done (iteration 9450) Mon Dec 14 23:11:51 2020\n",
      "50 percent done (iteration 10500) Mon Dec 14 23:11:55 2020\n",
      "55 percent done (iteration 11550) Mon Dec 14 23:11:59 2020\n",
      "60 percent done (iteration 12600) Mon Dec 14 23:12:02 2020\n",
      "65 percent done (iteration 13650) Mon Dec 14 23:12:06 2020\n",
      "70 percent done (iteration 14700) Mon Dec 14 23:12:10 2020\n",
      "75 percent done (iteration 15750) Mon Dec 14 23:12:14 2020\n",
      "80 percent done (iteration 16800) Mon Dec 14 23:12:17 2020\n",
      "85 percent done (iteration 17850) Mon Dec 14 23:12:21 2020\n",
      "90 percent done (iteration 18900) Mon Dec 14 23:12:25 2020\n",
      "95 percent done (iteration 19950) Mon Dec 14 23:12:29 2020\n",
      "100 percent done (iteration 21000) Mon Dec 14 23:12:33 2020\n"
     ]
    },
    {
     "name": "stderr",
     "output_type": "stream",
     "text": [
      "Warning message in eval(expr, envir, enclos):\n",
      "\"강제형변환에 의해 생성된 NA 입니다\""
     ]
    },
    {
     "name": "stdout",
     "output_type": "stream",
     "text": [
      "5 percent done (iteration 1050) Mon Dec 14 23:12:36 2020\n",
      "10 percent done (iteration 2100) Mon Dec 14 23:12:40 2020\n",
      "15 percent done (iteration 3150) Mon Dec 14 23:12:44 2020\n",
      "20 percent done (iteration 4200) Mon Dec 14 23:12:48 2020\n",
      "25 percent done (iteration 5250) Mon Dec 14 23:12:51 2020\n",
      "30 percent done (iteration 6300) Mon Dec 14 23:12:55 2020\n",
      "35 percent done (iteration 7350) Mon Dec 14 23:12:59 2020\n",
      "40 percent done (iteration 8400) Mon Dec 14 23:13:03 2020\n",
      "45 percent done (iteration 9450) Mon Dec 14 23:13:06 2020\n",
      "50 percent done (iteration 10500) Mon Dec 14 23:13:10 2020\n",
      "55 percent done (iteration 11550) Mon Dec 14 23:13:14 2020\n",
      "60 percent done (iteration 12600) Mon Dec 14 23:13:18 2020\n",
      "65 percent done (iteration 13650) Mon Dec 14 23:13:21 2020\n",
      "70 percent done (iteration 14700) Mon Dec 14 23:13:25 2020\n",
      "75 percent done (iteration 15750) Mon Dec 14 23:13:29 2020\n",
      "80 percent done (iteration 16800) Mon Dec 14 23:13:33 2020\n",
      "85 percent done (iteration 17850) Mon Dec 14 23:13:36 2020\n",
      "90 percent done (iteration 18900) Mon Dec 14 23:13:40 2020\n",
      "95 percent done (iteration 19950) Mon Dec 14 23:13:44 2020\n",
      "100 percent done (iteration 21000) Mon Dec 14 23:13:48 2020\n"
     ]
    },
    {
     "name": "stderr",
     "output_type": "stream",
     "text": [
      "Warning message in eval(expr, envir, enclos):\n",
      "\"강제형변환에 의해 생성된 NA 입니다\""
     ]
    },
    {
     "name": "stdout",
     "output_type": "stream",
     "text": [
      "5 percent done (iteration 1050) Mon Dec 14 23:13:51 2020\n",
      "10 percent done (iteration 2100) Mon Dec 14 23:13:55 2020\n",
      "15 percent done (iteration 3150) Mon Dec 14 23:13:59 2020\n",
      "20 percent done (iteration 4200) Mon Dec 14 23:14:03 2020\n",
      "25 percent done (iteration 5250) Mon Dec 14 23:14:07 2020\n",
      "30 percent done (iteration 6300) Mon Dec 14 23:14:11 2020\n",
      "35 percent done (iteration 7350) Mon Dec 14 23:14:14 2020\n",
      "40 percent done (iteration 8400) Mon Dec 14 23:14:18 2020\n",
      "45 percent done (iteration 9450) Mon Dec 14 23:14:22 2020\n",
      "50 percent done (iteration 10500) Mon Dec 14 23:14:26 2020\n",
      "55 percent done (iteration 11550) Mon Dec 14 23:14:30 2020\n",
      "60 percent done (iteration 12600) Mon Dec 14 23:14:33 2020\n",
      "65 percent done (iteration 13650) Mon Dec 14 23:14:37 2020\n",
      "70 percent done (iteration 14700) Mon Dec 14 23:14:41 2020\n",
      "75 percent done (iteration 15750) Mon Dec 14 23:14:45 2020\n",
      "80 percent done (iteration 16800) Mon Dec 14 23:14:49 2020\n",
      "85 percent done (iteration 17850) Mon Dec 14 23:14:53 2020\n",
      "90 percent done (iteration 18900) Mon Dec 14 23:14:56 2020\n",
      "95 percent done (iteration 19950) Mon Dec 14 23:15:00 2020\n",
      "100 percent done (iteration 21000) Mon Dec 14 23:15:04 2020\n"
     ]
    }
   ],
   "source": [
    "#first model\n",
    "for(i in seq(1,nfolds)){ \n",
    "  #index of missing values.\n",
    "  miss.index<-seq(((i-1)*nmiss+1),(i*nmiss),1)\n",
    "  A.miss.index<-perm.index[miss.index]\n",
    "  \n",
    "  #Fill a new Atemp appropriately with NA's\n",
    "  Avec.temp<-Avec\n",
    "  Avec.temp[A.miss.index]<-rep(\"NA\",length(A.miss.index))\n",
    "  Avec.temp<-as.numeric(Avec.temp)\n",
    "  Atemp<-matrix(0,36,36)\n",
    "  Atemp[lower.tri(Atemp)]<-Avec.temp\n",
    "  Atemp<-Atemp+t(Atemp)\n",
    "  \n",
    "  Y<-Atemp #revised adjacency matrix\n",
    "  \n",
    "  model1.fit<-eigenmodel_mcmc(Y,R=2,S=11000,burn=10000)\n",
    "  model1.pred<-model1.fit$Y_postmean\n",
    "  model1.pred.vec<-model1.pred[lower.tri(model1.pred)]\n",
    "  Avec.pred1[A.miss.index]<-model1.pred.vec[A.miss.index]\n",
    "  \n",
    "  \n",
    "}"
   ]
  },
  {
   "cell_type": "code",
   "execution_count": 16,
   "metadata": {},
   "outputs": [
    {
     "name": "stderr",
     "output_type": "stream",
     "text": [
      "Warning message in eval(expr, envir, enclos):\n",
      "\"강제형변환에 의해 생성된 NA 입니다\""
     ]
    },
    {
     "name": "stdout",
     "output_type": "stream",
     "text": [
      "5 percent done (iteration 1050) Mon Dec 14 23:15:58 2020\n",
      "10 percent done (iteration 2100) Mon Dec 14 23:16:02 2020\n",
      "15 percent done (iteration 3150) Mon Dec 14 23:16:06 2020\n",
      "20 percent done (iteration 4200) Mon Dec 14 23:16:10 2020\n",
      "25 percent done (iteration 5250) Mon Dec 14 23:16:14 2020\n",
      "30 percent done (iteration 6300) Mon Dec 14 23:16:18 2020\n",
      "35 percent done (iteration 7350) Mon Dec 14 23:16:22 2020\n",
      "40 percent done (iteration 8400) Mon Dec 14 23:16:25 2020\n",
      "45 percent done (iteration 9450) Mon Dec 14 23:16:29 2020\n",
      "50 percent done (iteration 10500) Mon Dec 14 23:16:33 2020\n",
      "55 percent done (iteration 11550) Mon Dec 14 23:16:37 2020\n",
      "60 percent done (iteration 12600) Mon Dec 14 23:16:41 2020\n",
      "65 percent done (iteration 13650) Mon Dec 14 23:16:45 2020\n",
      "70 percent done (iteration 14700) Mon Dec 14 23:16:49 2020\n",
      "75 percent done (iteration 15750) Mon Dec 14 23:16:53 2020\n",
      "80 percent done (iteration 16800) Mon Dec 14 23:16:57 2020\n",
      "85 percent done (iteration 17850) Mon Dec 14 23:17:01 2020\n",
      "90 percent done (iteration 18900) Mon Dec 14 23:17:05 2020\n",
      "95 percent done (iteration 19950) Mon Dec 14 23:17:09 2020\n",
      "100 percent done (iteration 21000) Mon Dec 14 23:17:13 2020\n"
     ]
    },
    {
     "name": "stderr",
     "output_type": "stream",
     "text": [
      "Warning message in eval(expr, envir, enclos):\n",
      "\"강제형변환에 의해 생성된 NA 입니다\""
     ]
    },
    {
     "name": "stdout",
     "output_type": "stream",
     "text": [
      "5 percent done (iteration 1050) Mon Dec 14 23:17:17 2020\n",
      "10 percent done (iteration 2100) Mon Dec 14 23:17:21 2020\n",
      "15 percent done (iteration 3150) Mon Dec 14 23:17:25 2020\n",
      "20 percent done (iteration 4200) Mon Dec 14 23:17:29 2020\n",
      "25 percent done (iteration 5250) Mon Dec 14 23:17:33 2020\n",
      "30 percent done (iteration 6300) Mon Dec 14 23:17:36 2020\n",
      "35 percent done (iteration 7350) Mon Dec 14 23:17:40 2020\n",
      "40 percent done (iteration 8400) Mon Dec 14 23:17:44 2020\n",
      "45 percent done (iteration 9450) Mon Dec 14 23:17:48 2020\n",
      "50 percent done (iteration 10500) Mon Dec 14 23:17:52 2020\n",
      "55 percent done (iteration 11550) Mon Dec 14 23:17:56 2020\n",
      "60 percent done (iteration 12600) Mon Dec 14 23:18:00 2020\n",
      "65 percent done (iteration 13650) Mon Dec 14 23:18:04 2020\n",
      "70 percent done (iteration 14700) Mon Dec 14 23:18:08 2020\n",
      "75 percent done (iteration 15750) Mon Dec 14 23:18:12 2020\n",
      "80 percent done (iteration 16800) Mon Dec 14 23:18:16 2020\n",
      "85 percent done (iteration 17850) Mon Dec 14 23:18:20 2020\n",
      "90 percent done (iteration 18900) Mon Dec 14 23:18:24 2020\n",
      "95 percent done (iteration 19950) Mon Dec 14 23:18:27 2020\n",
      "100 percent done (iteration 21000) Mon Dec 14 23:18:31 2020\n"
     ]
    },
    {
     "name": "stderr",
     "output_type": "stream",
     "text": [
      "Warning message in eval(expr, envir, enclos):\n",
      "\"강제형변환에 의해 생성된 NA 입니다\""
     ]
    },
    {
     "name": "stdout",
     "output_type": "stream",
     "text": [
      "5 percent done (iteration 1050) Mon Dec 14 23:18:35 2020\n",
      "10 percent done (iteration 2100) Mon Dec 14 23:18:39 2020\n",
      "15 percent done (iteration 3150) Mon Dec 14 23:18:43 2020\n",
      "20 percent done (iteration 4200) Mon Dec 14 23:18:47 2020\n",
      "25 percent done (iteration 5250) Mon Dec 14 23:18:51 2020\n",
      "30 percent done (iteration 6300) Mon Dec 14 23:18:55 2020\n",
      "35 percent done (iteration 7350) Mon Dec 14 23:18:59 2020\n",
      "40 percent done (iteration 8400) Mon Dec 14 23:19:03 2020\n",
      "45 percent done (iteration 9450) Mon Dec 14 23:19:07 2020\n",
      "50 percent done (iteration 10500) Mon Dec 14 23:19:11 2020\n",
      "55 percent done (iteration 11550) Mon Dec 14 23:19:15 2020\n",
      "60 percent done (iteration 12600) Mon Dec 14 23:19:19 2020\n",
      "65 percent done (iteration 13650) Mon Dec 14 23:19:23 2020\n",
      "70 percent done (iteration 14700) Mon Dec 14 23:19:26 2020\n",
      "75 percent done (iteration 15750) Mon Dec 14 23:19:30 2020\n",
      "80 percent done (iteration 16800) Mon Dec 14 23:19:34 2020\n",
      "85 percent done (iteration 17850) Mon Dec 14 23:19:38 2020\n",
      "90 percent done (iteration 18900) Mon Dec 14 23:19:42 2020\n",
      "95 percent done (iteration 19950) Mon Dec 14 23:19:46 2020\n",
      "100 percent done (iteration 21000) Mon Dec 14 23:19:50 2020\n"
     ]
    },
    {
     "name": "stderr",
     "output_type": "stream",
     "text": [
      "Warning message in eval(expr, envir, enclos):\n",
      "\"강제형변환에 의해 생성된 NA 입니다\""
     ]
    },
    {
     "name": "stdout",
     "output_type": "stream",
     "text": [
      "5 percent done (iteration 1050) Mon Dec 14 23:19:54 2020\n",
      "10 percent done (iteration 2100) Mon Dec 14 23:19:58 2020\n",
      "15 percent done (iteration 3150) Mon Dec 14 23:20:02 2020\n",
      "20 percent done (iteration 4200) Mon Dec 14 23:20:06 2020\n",
      "25 percent done (iteration 5250) Mon Dec 14 23:20:10 2020\n",
      "30 percent done (iteration 6300) Mon Dec 14 23:20:14 2020\n",
      "35 percent done (iteration 7350) Mon Dec 14 23:20:17 2020\n",
      "40 percent done (iteration 8400) Mon Dec 14 23:20:21 2020\n",
      "45 percent done (iteration 9450) Mon Dec 14 23:20:25 2020\n",
      "50 percent done (iteration 10500) Mon Dec 14 23:20:29 2020\n",
      "55 percent done (iteration 11550) Mon Dec 14 23:20:33 2020\n",
      "60 percent done (iteration 12600) Mon Dec 14 23:20:37 2020\n",
      "65 percent done (iteration 13650) Mon Dec 14 23:20:41 2020\n",
      "70 percent done (iteration 14700) Mon Dec 14 23:20:45 2020\n",
      "75 percent done (iteration 15750) Mon Dec 14 23:20:49 2020\n",
      "80 percent done (iteration 16800) Mon Dec 14 23:20:53 2020\n",
      "85 percent done (iteration 17850) Mon Dec 14 23:20:57 2020\n",
      "90 percent done (iteration 18900) Mon Dec 14 23:21:01 2020\n",
      "95 percent done (iteration 19950) Mon Dec 14 23:21:05 2020\n",
      "100 percent done (iteration 21000) Mon Dec 14 23:21:09 2020\n"
     ]
    },
    {
     "name": "stderr",
     "output_type": "stream",
     "text": [
      "Warning message in eval(expr, envir, enclos):\n",
      "\"강제형변환에 의해 생성된 NA 입니다\""
     ]
    },
    {
     "name": "stdout",
     "output_type": "stream",
     "text": [
      "5 percent done (iteration 1050) Mon Dec 14 23:21:13 2020\n",
      "10 percent done (iteration 2100) Mon Dec 14 23:21:17 2020\n",
      "15 percent done (iteration 3150) Mon Dec 14 23:21:20 2020\n",
      "20 percent done (iteration 4200) Mon Dec 14 23:21:24 2020\n",
      "25 percent done (iteration 5250) Mon Dec 14 23:21:28 2020\n",
      "30 percent done (iteration 6300) Mon Dec 14 23:21:32 2020\n",
      "35 percent done (iteration 7350) Mon Dec 14 23:21:36 2020\n",
      "40 percent done (iteration 8400) Mon Dec 14 23:21:40 2020\n",
      "45 percent done (iteration 9450) Mon Dec 14 23:21:44 2020\n",
      "50 percent done (iteration 10500) Mon Dec 14 23:21:48 2020\n",
      "55 percent done (iteration 11550) Mon Dec 14 23:21:52 2020\n",
      "60 percent done (iteration 12600) Mon Dec 14 23:21:55 2020\n",
      "65 percent done (iteration 13650) Mon Dec 14 23:21:59 2020\n",
      "70 percent done (iteration 14700) Mon Dec 14 23:22:03 2020\n",
      "75 percent done (iteration 15750) Mon Dec 14 23:22:07 2020\n",
      "80 percent done (iteration 16800) Mon Dec 14 23:22:11 2020\n",
      "85 percent done (iteration 17850) Mon Dec 14 23:22:15 2020\n",
      "90 percent done (iteration 18900) Mon Dec 14 23:22:19 2020\n",
      "95 percent done (iteration 19950) Mon Dec 14 23:22:23 2020\n",
      "100 percent done (iteration 21000) Mon Dec 14 23:22:27 2020\n"
     ]
    }
   ],
   "source": [
    "#second model(practice)\n",
    "for(i in seq(1,nfolds)){\n",
    "  #index of missing values.\n",
    "  miss.index<-seq(((i-1)*nmiss+1),(i*nmiss),1)\n",
    "  A.miss.index<-perm.index[miss.index]\n",
    "  \n",
    "  #Fill a new Atemp appropriately with NA's\n",
    "  Avec.temp<-Avec\n",
    "  Avec.temp[A.miss.index]<-rep(\"NA\",length(A.miss.index))\n",
    "  Avec.temp<-as.numeric(Avec.temp)\n",
    "  Atemp<-matrix(0,36,36)\n",
    "  Atemp[lower.tri(Atemp)]<-Avec.temp\n",
    "  Atemp<-Atemp+t(Atemp)\n",
    "  \n",
    "  Y<-Atemp #revised adjacency matrix\n",
    "  \n",
    "  model2.fit<-eigenmodel_mcmc(Y,same.prac,R=2,S=11000,burn=10000)\n",
    "  model2.pred<-model2.fit$Y_postmean\n",
    "  model2.pred.vec<-model2.pred[lower.tri(model2.pred)]\n",
    "  Avec.pred2[A.miss.index]<-model2.pred.vec[A.miss.index]\n",
    "  \n",
    "  \n",
    "}"
   ]
  },
  {
   "cell_type": "code",
   "execution_count": 17,
   "metadata": {},
   "outputs": [
    {
     "name": "stderr",
     "output_type": "stream",
     "text": [
      "Warning message in eval(expr, envir, enclos):\n",
      "\"강제형변환에 의해 생성된 NA 입니다\""
     ]
    },
    {
     "name": "stdout",
     "output_type": "stream",
     "text": [
      "5 percent done (iteration 1050) Mon Dec 14 23:23:15 2020\n",
      "10 percent done (iteration 2100) Mon Dec 14 23:23:19 2020\n",
      "15 percent done (iteration 3150) Mon Dec 14 23:23:23 2020\n",
      "20 percent done (iteration 4200) Mon Dec 14 23:23:26 2020\n",
      "25 percent done (iteration 5250) Mon Dec 14 23:23:30 2020\n",
      "30 percent done (iteration 6300) Mon Dec 14 23:23:34 2020\n",
      "35 percent done (iteration 7350) Mon Dec 14 23:23:38 2020\n",
      "40 percent done (iteration 8400) Mon Dec 14 23:23:42 2020\n",
      "45 percent done (iteration 9450) Mon Dec 14 23:23:46 2020\n",
      "50 percent done (iteration 10500) Mon Dec 14 23:23:50 2020\n",
      "55 percent done (iteration 11550) Mon Dec 14 23:23:54 2020\n",
      "60 percent done (iteration 12600) Mon Dec 14 23:23:57 2020\n",
      "65 percent done (iteration 13650) Mon Dec 14 23:24:01 2020\n",
      "70 percent done (iteration 14700) Mon Dec 14 23:24:05 2020\n",
      "75 percent done (iteration 15750) Mon Dec 14 23:24:09 2020\n",
      "80 percent done (iteration 16800) Mon Dec 14 23:24:13 2020\n",
      "85 percent done (iteration 17850) Mon Dec 14 23:24:17 2020\n",
      "90 percent done (iteration 18900) Mon Dec 14 23:24:21 2020\n",
      "95 percent done (iteration 19950) Mon Dec 14 23:24:25 2020\n",
      "100 percent done (iteration 21000) Mon Dec 14 23:24:28 2020\n"
     ]
    },
    {
     "name": "stderr",
     "output_type": "stream",
     "text": [
      "Warning message in eval(expr, envir, enclos):\n",
      "\"강제형변환에 의해 생성된 NA 입니다\""
     ]
    },
    {
     "name": "stdout",
     "output_type": "stream",
     "text": [
      "5 percent done (iteration 1050) Mon Dec 14 23:24:32 2020\n",
      "10 percent done (iteration 2100) Mon Dec 14 23:24:36 2020\n",
      "15 percent done (iteration 3150) Mon Dec 14 23:24:40 2020\n",
      "20 percent done (iteration 4200) Mon Dec 14 23:24:44 2020\n",
      "25 percent done (iteration 5250) Mon Dec 14 23:24:48 2020\n",
      "30 percent done (iteration 6300) Mon Dec 14 23:24:51 2020\n",
      "35 percent done (iteration 7350) Mon Dec 14 23:24:55 2020\n",
      "40 percent done (iteration 8400) Mon Dec 14 23:24:59 2020\n",
      "45 percent done (iteration 9450) Mon Dec 14 23:25:03 2020\n",
      "50 percent done (iteration 10500) Mon Dec 14 23:25:07 2020\n",
      "55 percent done (iteration 11550) Mon Dec 14 23:25:11 2020\n",
      "60 percent done (iteration 12600) Mon Dec 14 23:25:15 2020\n",
      "65 percent done (iteration 13650) Mon Dec 14 23:25:18 2020\n",
      "70 percent done (iteration 14700) Mon Dec 14 23:25:22 2020\n",
      "75 percent done (iteration 15750) Mon Dec 14 23:25:26 2020\n",
      "80 percent done (iteration 16800) Mon Dec 14 23:25:30 2020\n",
      "85 percent done (iteration 17850) Mon Dec 14 23:25:34 2020\n",
      "90 percent done (iteration 18900) Mon Dec 14 23:25:38 2020\n",
      "95 percent done (iteration 19950) Mon Dec 14 23:25:42 2020\n",
      "100 percent done (iteration 21000) Mon Dec 14 23:25:46 2020\n"
     ]
    },
    {
     "name": "stderr",
     "output_type": "stream",
     "text": [
      "Warning message in eval(expr, envir, enclos):\n",
      "\"강제형변환에 의해 생성된 NA 입니다\""
     ]
    },
    {
     "name": "stdout",
     "output_type": "stream",
     "text": [
      "5 percent done (iteration 1050) Mon Dec 14 23:25:50 2020\n",
      "10 percent done (iteration 2100) Mon Dec 14 23:25:54 2020\n",
      "15 percent done (iteration 3150) Mon Dec 14 23:25:58 2020\n",
      "20 percent done (iteration 4200) Mon Dec 14 23:26:02 2020\n",
      "25 percent done (iteration 5250) Mon Dec 14 23:26:06 2020\n",
      "30 percent done (iteration 6300) Mon Dec 14 23:26:10 2020\n",
      "35 percent done (iteration 7350) Mon Dec 14 23:26:14 2020\n",
      "40 percent done (iteration 8400) Mon Dec 14 23:26:18 2020\n",
      "45 percent done (iteration 9450) Mon Dec 14 23:26:22 2020\n",
      "50 percent done (iteration 10500) Mon Dec 14 23:26:26 2020\n",
      "55 percent done (iteration 11550) Mon Dec 14 23:26:30 2020\n",
      "60 percent done (iteration 12600) Mon Dec 14 23:26:34 2020\n",
      "65 percent done (iteration 13650) Mon Dec 14 23:26:38 2020\n",
      "70 percent done (iteration 14700) Mon Dec 14 23:26:42 2020\n",
      "75 percent done (iteration 15750) Mon Dec 14 23:26:46 2020\n",
      "80 percent done (iteration 16800) Mon Dec 14 23:26:50 2020\n",
      "85 percent done (iteration 17850) Mon Dec 14 23:26:54 2020\n",
      "90 percent done (iteration 18900) Mon Dec 14 23:26:58 2020\n",
      "95 percent done (iteration 19950) Mon Dec 14 23:27:02 2020\n",
      "100 percent done (iteration 21000) Mon Dec 14 23:27:06 2020\n"
     ]
    },
    {
     "name": "stderr",
     "output_type": "stream",
     "text": [
      "Warning message in eval(expr, envir, enclos):\n",
      "\"강제형변환에 의해 생성된 NA 입니다\""
     ]
    },
    {
     "name": "stdout",
     "output_type": "stream",
     "text": [
      "5 percent done (iteration 1050) Mon Dec 14 23:27:10 2020\n",
      "10 percent done (iteration 2100) Mon Dec 14 23:27:14 2020\n",
      "15 percent done (iteration 3150) Mon Dec 14 23:27:18 2020\n",
      "20 percent done (iteration 4200) Mon Dec 14 23:27:21 2020\n",
      "25 percent done (iteration 5250) Mon Dec 14 23:27:25 2020\n",
      "30 percent done (iteration 6300) Mon Dec 14 23:27:29 2020\n",
      "35 percent done (iteration 7350) Mon Dec 14 23:27:33 2020\n",
      "40 percent done (iteration 8400) Mon Dec 14 23:27:37 2020\n",
      "45 percent done (iteration 9450) Mon Dec 14 23:27:41 2020\n",
      "50 percent done (iteration 10500) Mon Dec 14 23:27:44 2020\n",
      "55 percent done (iteration 11550) Mon Dec 14 23:27:48 2020\n",
      "60 percent done (iteration 12600) Mon Dec 14 23:27:52 2020\n",
      "65 percent done (iteration 13650) Mon Dec 14 23:27:56 2020\n",
      "70 percent done (iteration 14700) Mon Dec 14 23:28:00 2020\n",
      "75 percent done (iteration 15750) Mon Dec 14 23:28:04 2020\n",
      "80 percent done (iteration 16800) Mon Dec 14 23:28:07 2020\n",
      "85 percent done (iteration 17850) Mon Dec 14 23:28:11 2020\n",
      "90 percent done (iteration 18900) Mon Dec 14 23:28:15 2020\n",
      "95 percent done (iteration 19950) Mon Dec 14 23:28:19 2020\n",
      "100 percent done (iteration 21000) Mon Dec 14 23:28:23 2020\n"
     ]
    },
    {
     "name": "stderr",
     "output_type": "stream",
     "text": [
      "Warning message in eval(expr, envir, enclos):\n",
      "\"강제형변환에 의해 생성된 NA 입니다\""
     ]
    },
    {
     "name": "stdout",
     "output_type": "stream",
     "text": [
      "5 percent done (iteration 1050) Mon Dec 14 23:28:27 2020\n",
      "10 percent done (iteration 2100) Mon Dec 14 23:28:30 2020\n",
      "15 percent done (iteration 3150) Mon Dec 14 23:28:34 2020\n",
      "20 percent done (iteration 4200) Mon Dec 14 23:28:38 2020\n",
      "25 percent done (iteration 5250) Mon Dec 14 23:28:42 2020\n",
      "30 percent done (iteration 6300) Mon Dec 14 23:28:46 2020\n",
      "35 percent done (iteration 7350) Mon Dec 14 23:28:50 2020\n",
      "40 percent done (iteration 8400) Mon Dec 14 23:28:53 2020\n",
      "45 percent done (iteration 9450) Mon Dec 14 23:28:57 2020\n",
      "50 percent done (iteration 10500) Mon Dec 14 23:29:01 2020\n",
      "55 percent done (iteration 11550) Mon Dec 14 23:29:05 2020\n",
      "60 percent done (iteration 12600) Mon Dec 14 23:29:09 2020\n",
      "65 percent done (iteration 13650) Mon Dec 14 23:29:13 2020\n",
      "70 percent done (iteration 14700) Mon Dec 14 23:29:17 2020\n",
      "75 percent done (iteration 15750) Mon Dec 14 23:29:20 2020\n",
      "80 percent done (iteration 16800) Mon Dec 14 23:29:24 2020\n",
      "85 percent done (iteration 17850) Mon Dec 14 23:29:28 2020\n",
      "90 percent done (iteration 18900) Mon Dec 14 23:29:32 2020\n",
      "95 percent done (iteration 19950) Mon Dec 14 23:29:36 2020\n",
      "100 percent done (iteration 21000) Mon Dec 14 23:29:40 2020\n"
     ]
    }
   ],
   "source": [
    "#third model(office)\n",
    "for(i in seq(1,nfolds)){\n",
    "  #index of missing values.\n",
    "  miss.index<-seq(((i-1)*nmiss+1),(i*nmiss),1)\n",
    "  A.miss.index<-perm.index[miss.index]\n",
    "  \n",
    "  #Fill a new Atemp appropriately with NA's\n",
    "  Avec.temp<-Avec\n",
    "  Avec.temp[A.miss.index]<-rep(\"NA\",length(A.miss.index))\n",
    "  Avec.temp<-as.numeric(Avec.temp)\n",
    "  Atemp<-matrix(0,36,36)\n",
    "  Atemp[lower.tri(Atemp)]<-Avec.temp\n",
    "  Atemp<-Atemp+t(Atemp)\n",
    "  \n",
    "  Y<-Atemp #revised adjacency matrix\n",
    "  \n",
    "  model3.fit<-eigenmodel_mcmc(Y,same.off,R=2,S=11000,burn=10000)\n",
    "  model3.pred<-model3.fit$Y_postmean\n",
    "  model3.pred.vec<-model3.pred[lower.tri(model3.pred)]\n",
    "  Avec.pred3[A.miss.index]<-model3.pred.vec[A.miss.index]\n",
    "  \n",
    "  \n",
    "}"
   ]
  },
  {
   "cell_type": "markdown",
   "metadata": {},
   "source": [
    "## compare three models"
   ]
  },
  {
   "cell_type": "code",
   "execution_count": 18,
   "metadata": {},
   "outputs": [
    {
     "data": {
      "image/png": "[encoded data removed]",
      "text/plain": [
       "plot without title"
      ]
     },
     "metadata": {},
     "output_type": "display_data"
    }
   ],
   "source": [
    "#Get ROC curve\n",
    "par(mfrow=c(1,1))\n",
    "library(ROCR)\n",
    "pred1<-prediction(Avec.pred1,Avec) #Avec is real Yij\n",
    "perf1<-performance(pred1,\"tpr\",\"fpr\")\n",
    "plot(perf1,col=\"blue\",lwd=3)\n",
    "\n",
    "pred2<-prediction(Avec.pred2,Avec)\n",
    "perf2<-performance(pred2,\"tpr\",\"fpr\")\n",
    "plot(perf2,col=\"red\",lwd=3,add=TRUE)\n",
    "\n",
    "pred3<-prediction(Avec.pred3,Avec)\n",
    "perf3<-performance(pred3,\"tpr\",\"fpr\")\n",
    "plot(perf3,col=\"goldenrod\",lwd=3,add=TRUE)\n",
    "\n",
    "legend(\"bottomright\",legend=c(\"perf1\",\"perf2\",\"perf3\"),col=c(\"blue\",\"red\",\"goldenrod\"),lty=1,cex=0.8)"
   ]
  },
  {
   "cell_type": "code",
   "execution_count": 19,
   "metadata": {},
   "outputs": [
    {
     "data": {
      "text/html": [
       "<ol>\n",
       "\t<li>0.819181089067116</li>\n",
       "</ol>\n"
      ],
      "text/latex": [
       "\\begin{enumerate}\n",
       "\\item 0.819181089067116\n",
       "\\end{enumerate}\n"
      ],
      "text/markdown": [
       "1. 0.819181089067116\n",
       "\n",
       "\n"
      ],
      "text/plain": [
       "[[1]]\n",
       "[1] 0.8191811\n"
      ]
     },
     "metadata": {},
     "output_type": "display_data"
    },
    {
     "data": {
      "text/html": [
       "<ol>\n",
       "\t<li>0.818446601941747</li>\n",
       "</ol>\n"
      ],
      "text/latex": [
       "\\begin{enumerate}\n",
       "\\item 0.818446601941747\n",
       "\\end{enumerate}\n"
      ],
      "text/markdown": [
       "1. 0.818446601941747\n",
       "\n",
       "\n"
      ],
      "text/plain": [
       "[[1]]\n",
       "[1] 0.8184466\n"
      ]
     },
     "metadata": {},
     "output_type": "display_data"
    },
    {
     "data": {
      "text/html": [
       "<ol>\n",
       "\t<li>0.825124525116082</li>\n",
       "</ol>\n"
      ],
      "text/latex": [
       "\\begin{enumerate}\n",
       "\\item 0.825124525116082\n",
       "\\end{enumerate}\n"
      ],
      "text/markdown": [
       "1. 0.825124525116082\n",
       "\n",
       "\n"
      ],
      "text/plain": [
       "[[1]]\n",
       "[1] 0.8251245\n"
      ]
     },
     "metadata": {},
     "output_type": "display_data"
    }
   ],
   "source": [
    "#Get AUC\n",
    "perf1.auc<-performance(pred1,\"auc\")\n",
    "slot(perf1.auc,\"y.values\")\n",
    "\n",
    "perf2.auc<-performance(pred2,\"auc\")\n",
    "slot(perf2.auc,\"y.values\")\n",
    "\n",
    "perf3.auc<-performance(pred3,\"auc\")\n",
    "slot(perf3.auc,\"y.values\") #similar performance!"
   ]
  }
 ],
 "metadata": {
  "kernelspec": {
   "display_name": "R",
   "language": "R",
   "name": "ir"
  },
  "language_info": {
   "codemirror_mode": "r",
   "file_extension": ".r",
   "mimetype": "text/x-r-source",
   "name": "R",
   "pygments_lexer": "r",
   "version": "3.6.1"
  }
 },
 "nbformat": 4,
 "nbformat_minor": 4
}
